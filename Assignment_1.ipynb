{
 "cells": [
  {
   "cell_type": "markdown",
   "id": "77b8238d",
   "metadata": {},
   "source": [
    "### Assignment 1"
   ]
  },
  {
   "cell_type": "markdown",
   "id": "6cea6617",
   "metadata": {},
   "source": [
    "**Question 1. In the below elements which of them are values or an expression? eg:- values can be\n",
    "integer or string and expressions will be mathematical operators.**\n",
    "\n",
    "\n",
    "### *\n",
    "### &#39;hello&#39;\n",
    "### -87.8\n",
    "### -\n",
    "### /\n",
    "### +\n",
    "### 6"
   ]
  },
  {
   "cell_type": "markdown",
   "id": "866a5ad1",
   "metadata": {},
   "source": [
    " **Answer 1**\n",
    " \n",
    " '*' : This is expression \n",
    " \n",
    "'hello' : This is string value\n",
    "\n",
    "-87.8 : This is integer value\n",
    "\n",
    "'-' : This is expression\n",
    "\n",
    "'/' : This is expression\n",
    "\n",
    "'+' : This is expression\n",
    "\n",
    "6 : This is integer value\n"
   ]
  },
  {
   "cell_type": "markdown",
   "id": "796bc51e",
   "metadata": {},
   "source": [
    "**Question 2. What is the difference between string and variable?**"
   ]
  },
  {
   "cell_type": "markdown",
   "id": "b6cd55f6",
   "metadata": {},
   "source": [
    "**Answer 2:**\n",
    "\n",
    "**string:** It is a datatype which is a sequence of char value.\n",
    "\n",
    "**example : 'hello world', 'ineuron','xyz'**\n",
    "\n",
    "**variable:** A variable is use to store the data. In python we need not to specify the variable type before assigning the values but as we assign the data or value it automatically understand the type of variable.\n",
    "\n",
    "**example**\n",
    "\n",
    "**user_input_1 = 2500**\n",
    "\n",
    "**user_input_2 = \"My name is Sachin\"**\n",
    "\n",
    "**user_input_3 = 35.55**\n",
    "\n",
    "\n",
    "\n"
   ]
  },
  {
   "cell_type": "markdown",
   "id": "f8b123a3",
   "metadata": {},
   "source": [
    "**Qustion 3: Describe three different data types.**\n",
    "\n",
    "Answer: In python there are more than three data types but I am going to describe the integer, float and string data types.\n",
    "\n",
    "**integer**: This is a kind of data type which represent by int class.This contains positive and negative whole number but not fraction or decimal values. There is no limit for the integer values in python.\n",
    "\n",
    "##### Example : x = 23, y = -12, z = 98\n",
    "\n",
    "**float**: This data type represent the floating point numbers. This represent the number with decimal or in fraction form.\n",
    "\n",
    "##### Example: x = 23.5, y = 43/7, z= 0.50\n",
    "\n",
    "**string**: This is kind of data type which is array of unicode character. We can access the element of string using square bracket.Python do not have character data type, a single character can be string with the length of 1. \n",
    "\n",
    "##### Example: name = 'ineuron' , address = '403,2nd street' , dimension= 'L'"
   ]
  },
  {
   "cell_type": "markdown",
   "id": "a3d88544",
   "metadata": {},
   "source": [
    "**Question 4: What is an expression made up of? What do all expressions do?**\n",
    "\n",
    "**Answer:** Expression is made up of operands and operators which produce some other values. It is used to perform some operation and solve the critical problem.\n",
    "\n",
    "##### example: write a program to calculate the (a+b)^2 in expression form.\n",
    "**formula = a^2 + b^2 + 2*a*b**"
   ]
  },
  {
   "cell_type": "markdown",
   "id": "cffeb155",
   "metadata": {},
   "source": [
    "**Question 5. This assignment statements, like spam = 10. What is the difference between an expression and a statement?**\n",
    "\n",
    "**Answer:** Expression is used to solve the critical problem and give the result or produce some other values.But the statment is an instruction that execute by python interpreter and produce the result if there is any. Statment are two types - Assignment statement and print statement."
   ]
  },
  {
   "cell_type": "markdown",
   "id": "d0eface2",
   "metadata": {},
   "source": [
    "**Question 6: After running the following code, what does the variable bacon contain?**\n",
    "   bacon = 22\n",
    "   bacon + 1\n",
    "   \n",
    " **Answer**: It will print 22 because we are not storing the value of bacon after adding +1 so we will get the output as 22.\n",
    "\n"
   ]
  },
  {
   "cell_type": "markdown",
   "id": "4db7e6c6",
   "metadata": {},
   "source": [
    "**Question 7. What should the values of the following two terms be?**\n",
    "\n",
    "'spam' + 'spamspam'\n",
    "\n",
    "'spam' * 3\n",
    "\n",
    "**Answer**: If we print both the statement we will get the same result. We can see in the below code -\n"
   ]
  },
  {
   "cell_type": "code",
   "execution_count": 14,
   "id": "f69da894",
   "metadata": {},
   "outputs": [
    {
     "name": "stdout",
     "output_type": "stream",
     "text": [
      "spamspamspam\n",
      "spamspamspam\n"
     ]
    }
   ],
   "source": [
    "print('spam' + 'spamspam')\n",
    "\n",
    "print('spam' * 3)\n",
    "\n",
    "\n",
    "\n"
   ]
  },
  {
   "cell_type": "markdown",
   "id": "06df3a18",
   "metadata": {},
   "source": [
    "**8. Why is eggs a valid variable name while 100 is invalid?**"
   ]
  },
  {
   "cell_type": "markdown",
   "id": "8ce64d10",
   "metadata": {},
   "source": [
    "**Answer :**  Yes, it is because of interger values are not allowed to initiate as variable.In any programming language interger values are not used as variable. It will generate syntax error. Variable name should be name not a value."
   ]
  },
  {
   "cell_type": "markdown",
   "id": "ae7ce125",
   "metadata": {},
   "source": [
    "**Question 9. What three functions can be used to get the integer, floating-point number, or string version of a value?**\n",
    "\n",
    "**Answer**: The three function are - int(), float(), str()"
   ]
  },
  {
   "cell_type": "code",
   "execution_count": 15,
   "id": "40a87699",
   "metadata": {},
   "outputs": [
    {
     "name": "stdout",
     "output_type": "stream",
     "text": [
      "9\n",
      "9.0\n",
      "9\n",
      "<class 'int'>\n",
      "<class 'float'>\n",
      "<class 'str'>\n"
     ]
    }
   ],
   "source": [
    "x = int(9)\n",
    "y = float(9)\n",
    "z = str(9)\n",
    "\n",
    "print(x)\n",
    "print(y)\n",
    "print(z)\n",
    "\n",
    "print(type(x))\n",
    "print(type(y))\n",
    "print(type(z))\n",
    "\n",
    "\n",
    "#We can clearly see type of x,y,z i.e. x is integer , y is float and z is string type of variable.\n"
   ]
  },
  {
   "cell_type": "markdown",
   "id": "d04daa33",
   "metadata": {},
   "source": [
    "**Question 10: Why does this expression cause an error? How can you fix it?**\n",
    "\n",
    "'I have eaten ' + 99 + ' burritos.'\n",
    "\n",
    "**Answer:** We can concatenate the string and interger values together. It will generate the type error. We can fix it by converting the integer into string. The correct way is given below - \n",
    "\n",
    "'I have eaten ' + '99' + ' burritos.'\n",
    "\n",
    "Now 99 is also a string value and it can be concatenate the values. See the practicle of it below -\n"
   ]
  },
  {
   "cell_type": "code",
   "execution_count": 18,
   "id": "d01db618",
   "metadata": {},
   "outputs": [
    {
     "ename": "TypeError",
     "evalue": "can only concatenate str (not \"int\") to str",
     "output_type": "error",
     "traceback": [
      "\u001b[1;31m---------------------------------------------------------------------------\u001b[0m",
      "\u001b[1;31mTypeError\u001b[0m                                 Traceback (most recent call last)",
      "Input \u001b[1;32mIn [18]\u001b[0m, in \u001b[0;36m<cell line: 1>\u001b[1;34m()\u001b[0m\n\u001b[1;32m----> 1\u001b[0m \u001b[38;5;28mprint\u001b[39m(\u001b[38;5;124;43m'\u001b[39;49m\u001b[38;5;124;43mI have eaten \u001b[39;49m\u001b[38;5;124;43m'\u001b[39;49m\u001b[43m \u001b[49m\u001b[38;5;241;43m+\u001b[39;49m\u001b[43m \u001b[49m\u001b[38;5;241;43m99\u001b[39;49m \u001b[38;5;241m+\u001b[39m \u001b[38;5;124m'\u001b[39m\u001b[38;5;124m burritos.\u001b[39m\u001b[38;5;124m'\u001b[39m)\n",
      "\u001b[1;31mTypeError\u001b[0m: can only concatenate str (not \"int\") to str"
     ]
    }
   ],
   "source": [
    "print('I have eaten ' + 99 + ' burritos.')\n",
    "\n",
    "\n"
   ]
  },
  {
   "cell_type": "code",
   "execution_count": 19,
   "id": "3c1803ce",
   "metadata": {},
   "outputs": [
    {
     "name": "stdout",
     "output_type": "stream",
     "text": [
      "I have eaten 99 burritos.\n"
     ]
    }
   ],
   "source": [
    "print('I have eaten ' + '99' + ' burritos.')\n"
   ]
  },
  {
   "cell_type": "code",
   "execution_count": null,
   "id": "ff4bac26",
   "metadata": {},
   "outputs": [],
   "source": []
  }
 ],
 "metadata": {
  "kernelspec": {
   "display_name": "Python 3 (ipykernel)",
   "language": "python",
   "name": "python3"
  },
  "language_info": {
   "codemirror_mode": {
    "name": "ipython",
    "version": 3
   },
   "file_extension": ".py",
   "mimetype": "text/x-python",
   "name": "python",
   "nbconvert_exporter": "python",
   "pygments_lexer": "ipython3",
   "version": "3.9.12"
  }
 },
 "nbformat": 4,
 "nbformat_minor": 5
}
