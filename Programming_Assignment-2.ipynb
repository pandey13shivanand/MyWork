{
 "cells": [
  {
   "cell_type": "markdown",
   "id": "865df2fe",
   "metadata": {},
   "source": [
    "### Programming_Assignment-2"
   ]
  },
  {
   "cell_type": "markdown",
   "id": "6d561ac9",
   "metadata": {},
   "source": [
    "**Q1.Write a Python program to convert kilometers to miles?**"
   ]
  },
  {
   "cell_type": "code",
   "execution_count": 1,
   "id": "5a6f46a2",
   "metadata": {},
   "outputs": [
    {
     "name": "stdout",
     "output_type": "stream",
     "text": [
      "Enter the kilometer value to convert into miles : 5\n",
      "5 kilometer is equal to 3.10685595 miles\n"
     ]
    }
   ],
   "source": [
    "km_value = int(input(\"Enter the kilometer value to convert into miles : \"))\n",
    "\n",
    "miles_value = km_value * 0.62137119\n",
    "\n",
    "print(f\"{km_value} kilometer is equal to {miles_value} miles\")"
   ]
  },
  {
   "cell_type": "markdown",
   "id": "36759c3c",
   "metadata": {},
   "source": [
    "**Q2. Write a Python program to convert Celsius to Fahrenheit?**"
   ]
  },
  {
   "cell_type": "code",
   "execution_count": 3,
   "id": "f9d0ba92",
   "metadata": {},
   "outputs": [
    {
     "name": "stdout",
     "output_type": "stream",
     "text": [
      "Enter the temprature in celsius : 30\n",
      "30 degree celsius is equal to 86.0 F\n"
     ]
    }
   ],
   "source": [
    "celsius_value = int(input(\"Enter the temprature in celsius : \"))\n",
    "\n",
    "fahrenheit_value = (celsius_value * (9/5)) + 32\n",
    "\n",
    "print(f\"{celsius_value} degree celsius is equal to {fahrenheit_value} F\")"
   ]
  },
  {
   "cell_type": "markdown",
   "id": "a33aba45",
   "metadata": {},
   "source": [
    "**Q3.Write a Python program to display calendar?**"
   ]
  },
  {
   "cell_type": "code",
   "execution_count": 11,
   "id": "83db2843",
   "metadata": {},
   "outputs": [
    {
     "name": "stdout",
     "output_type": "stream",
     "text": [
      "Enter a year : 67\n",
      "Enter a month :10\n",
      "The calendar is\n",
      "     October 67\n",
      "Mo Tu We Th Fr Sa Su\n",
      "                1  2\n",
      " 3  4  5  6  7  8  9\n",
      "10 11 12 13 14 15 16\n",
      "17 18 19 20 21 22 23\n",
      "24 25 26 27 28 29 30\n",
      "31\n",
      "\n"
     ]
    }
   ],
   "source": [
    "import calendar\n",
    "\n",
    "yy = int(input(\"Enter a year : \"))\n",
    "\n",
    "mm = int(input(\"Enter a month :\"))\n",
    "\n",
    "print(\"The calendar is\")\n",
    "\n",
    "print(calendar.month(yy,mm))"
   ]
  },
  {
   "cell_type": "markdown",
   "id": "2ccea523",
   "metadata": {},
   "source": [
    "**Q4.Write a Python program to solve quadratic equation?**"
   ]
  },
  {
   "cell_type": "code",
   "execution_count": 22,
   "id": "bcbdb294",
   "metadata": {},
   "outputs": [
    {
     "name": "stdout",
     "output_type": "stream",
     "text": [
      "The quadratic equation is ax^2 + bx+ c.So please enter the value of 3 variable a,b & c :\n",
      "Enter the value of a :0\n",
      "Enter the value of b :2\n",
      "Enter the value of c :4\n",
      "Please enter correct input. Value of 'a' can't be 0\n"
     ]
    }
   ],
   "source": [
    "import math\n",
    "\n",
    "print(\"The quadratic equation is ax^2 + bx+ c.So please enter the value of 3 variable a,b & c :\")\n",
    "\n",
    "a = int(input(\"Enter the value of a :\"))\n",
    "\n",
    "b = int(input(\"Enter the value of b :\"))\n",
    "\n",
    "c = int(input(\"Enter the value of c :\"))\n",
    "\n",
    "if a == 0:\n",
    "    print(\"Please enter correct input. Value of 'a' can't be 0\")\n",
    "elif b*b < 4*a*c:\n",
    "    print(\"The roots of qudratic equation are complex.\")\n",
    "elif b*b == 4*a*c:\n",
    "    print(\"The roots are same and real\")\n",
    "else:\n",
    "    print(\"The roots are real and different\")\n",
    "    \n",
    "r1 = (-b + (math.sqrt(abs(b*b-4*a*c))))/2*a*c\n",
    "\n",
    "r2 = (-b - (math.sqrt(abs(b*b-4*a*c))))/2*a*c\n",
    "\n",
    "if a > 0 :\n",
    "    if b*b == 4*a*c or b*b > 4*a*c:\n",
    "        print(f\"Roots are {r1} & {r2}\")\n",
    "    elif b*b < 4*a*c :\n",
    "        print(- b / (2 * a), \" + i\", (math.sqrt(abs(b*b-4*a*c)))) \n",
    "        print(- b / (2 * a), \" - i\", (math.sqrt(abs(b*b-4*a*c))))\n",
    "else:\n",
    "    pass"
   ]
  },
  {
   "cell_type": "markdown",
   "id": "fdcda5bb",
   "metadata": {},
   "source": [
    "**Q5.Write a Python program to swap two variables without temp variable?**"
   ]
  },
  {
   "cell_type": "code",
   "execution_count": 24,
   "id": "295a96ab",
   "metadata": {},
   "outputs": [
    {
     "name": "stdout",
     "output_type": "stream",
     "text": [
      "Enter the value1 : 50\n",
      "Enter the value2 : 40\n",
      "Swapped values are value1 40 & value2 50\n"
     ]
    }
   ],
   "source": [
    "a = int(input(\"Enter the value1 : \"))\n",
    "b = int(input(\"Enter the value2 : \"))\n",
    "\n",
    "a = a+b\n",
    "b = a-b\n",
    "a = a-b\n",
    "\n",
    "print(f\"Swapped values are value1 {a} & value2 {b}\")"
   ]
  },
  {
   "cell_type": "code",
   "execution_count": null,
   "id": "93d1d170",
   "metadata": {},
   "outputs": [],
   "source": []
  }
 ],
 "metadata": {
  "kernelspec": {
   "display_name": "Python 3 (ipykernel)",
   "language": "python",
   "name": "python3"
  },
  "language_info": {
   "codemirror_mode": {
    "name": "ipython",
    "version": 3
   },
   "file_extension": ".py",
   "mimetype": "text/x-python",
   "name": "python",
   "nbconvert_exporter": "python",
   "pygments_lexer": "ipython3",
   "version": "3.9.12"
  }
 },
 "nbformat": 4,
 "nbformat_minor": 5
}
