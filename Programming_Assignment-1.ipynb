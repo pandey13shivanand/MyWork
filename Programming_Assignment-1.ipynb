{
 "cells": [
  {
   "cell_type": "markdown",
   "id": "250dc96b",
   "metadata": {},
   "source": [
    "### Programming_Assignment-1"
   ]
  },
  {
   "cell_type": "markdown",
   "id": "f415505a",
   "metadata": {},
   "source": [
    "**Q1. Write a Python program to print \"Hello Python\"?**"
   ]
  },
  {
   "cell_type": "markdown",
   "id": "89c3cf68",
   "metadata": {},
   "source": [
    "**Answer :**  It is very simple program. We can pass \"Hello Python\" in print function and it will print Hello Python."
   ]
  },
  {
   "cell_type": "code",
   "execution_count": 2,
   "id": "12520d28",
   "metadata": {},
   "outputs": [
    {
     "name": "stdout",
     "output_type": "stream",
     "text": [
      "Hello Python\n"
     ]
    }
   ],
   "source": [
    "print(\"Hello Python\")"
   ]
  },
  {
   "cell_type": "markdown",
   "id": "8af64025",
   "metadata": {},
   "source": [
    "**Q2. Write a Python program to do arithmetical operations addition and division.?**"
   ]
  },
  {
   "cell_type": "code",
   "execution_count": 3,
   "id": "d3f4daf6",
   "metadata": {},
   "outputs": [
    {
     "name": "stdout",
     "output_type": "stream",
     "text": [
      "80\n",
      "20\n"
     ]
    }
   ],
   "source": [
    "a = 50\n",
    "b = 30\n",
    "\n",
    "print(a+b)\n",
    "print(a-b)"
   ]
  },
  {
   "cell_type": "markdown",
   "id": "fa0a52c3",
   "metadata": {},
   "source": [
    "**Q3.Write a Python program to find the area of a triangle?**"
   ]
  },
  {
   "cell_type": "code",
   "execution_count": 7,
   "id": "3d144074",
   "metadata": {},
   "outputs": [
    {
     "name": "stdout",
     "output_type": "stream",
     "text": [
      "Enter the base: 10\n",
      "Enter the height: 20\n",
      "100.0\n"
     ]
    }
   ],
   "source": [
    "base = int(input(\"Enter the base: \"))\n",
    "height =int(input(\"Enter the height: \"))\n",
    "\n",
    "area_of_triangle = 1/2*(base*height)\n",
    "\n",
    "print(area_of_triangle)"
   ]
  },
  {
   "cell_type": "markdown",
   "id": "16be8ee2",
   "metadata": {},
   "source": [
    "**Q4.Write a Python program to swap two variables?**"
   ]
  },
  {
   "cell_type": "code",
   "execution_count": 18,
   "id": "0633cb72",
   "metadata": {},
   "outputs": [
    {
     "name": "stdout",
     "output_type": "stream",
     "text": [
      "Value of x before swapping : 10\n",
      "Value of y before swapping : 20\n",
      "Variables  value is swapping........\n",
      "Value of x after swapping : 20\n",
      "Value of y before swapping : 10\n"
     ]
    }
   ],
   "source": [
    "#Take a two variable and assign them a value.....\n",
    "x = 10\n",
    "y = 20\n",
    "\n",
    "\n",
    "#print those values before swapping...\n",
    "\n",
    "print(f\"Value of x before swapping : {x}\")\n",
    "\n",
    "print(f\"Value of y before swapping : {y}\")\n",
    "\n",
    "print(\"Variables  value is swapping........\")\n",
    "\n",
    "\n",
    "#Take another variable and use swapping logic to swap the values...\n",
    "z = x\n",
    "x = y\n",
    "y = z\n",
    "\n",
    "#Print the values after swapping\n",
    "\n",
    "print(f\"Value of x after swapping : {x}\")\n",
    "print(f\"Value of y before swapping : {y}\")"
   ]
  },
  {
   "cell_type": "markdown",
   "id": "539d175b",
   "metadata": {},
   "source": [
    "**Q5.Write a Python program to generate a random number?**"
   ]
  },
  {
   "cell_type": "markdown",
   "id": "476abc16",
   "metadata": {},
   "source": [
    "**Answer :** We need to import random function to produce the random number."
   ]
  },
  {
   "cell_type": "code",
   "execution_count": 17,
   "id": "16eb9e35",
   "metadata": {},
   "outputs": [
    {
     "name": "stdout",
     "output_type": "stream",
     "text": [
      "0.5857904043463515\n"
     ]
    }
   ],
   "source": [
    "import random\n",
    "print(random.random())"
   ]
  },
  {
   "cell_type": "code",
   "execution_count": null,
   "id": "e6d69fb9",
   "metadata": {},
   "outputs": [],
   "source": []
  }
 ],
 "metadata": {
  "kernelspec": {
   "display_name": "Python 3 (ipykernel)",
   "language": "python",
   "name": "python3"
  },
  "language_info": {
   "codemirror_mode": {
    "name": "ipython",
    "version": 3
   },
   "file_extension": ".py",
   "mimetype": "text/x-python",
   "name": "python",
   "nbconvert_exporter": "python",
   "pygments_lexer": "ipython3",
   "version": "3.9.12"
  }
 },
 "nbformat": 4,
 "nbformat_minor": 5
}
