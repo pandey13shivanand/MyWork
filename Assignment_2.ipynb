{
 "cells": [
  {
   "cell_type": "markdown",
   "id": "4ab97a2b",
   "metadata": {},
   "source": [
    "### Assignment 2"
   ]
  },
  {
   "cell_type": "markdown",
   "id": "ed1aa89e",
   "metadata": {},
   "source": [
    "**1. What are the two values of the Boolean data type? How do you write them?**"
   ]
  },
  {
   "cell_type": "markdown",
   "id": "990bf69d",
   "metadata": {},
   "source": [
    "**Answer** : The two types of the boolean data is:\n",
    "\n",
    "True {1}\n",
    "\n",
    "False {0}\n",
    "\n",
    "We can assign these boolean values to any variable or can be use for set the condition.\n",
    "\n",
    "Assign to variable -\n",
    "\n",
    "a = True\n",
    "\n",
    "b = False"
   ]
  },
  {
   "cell_type": "markdown",
   "id": "114615e9",
   "metadata": {},
   "source": [
    "**2. What are the three different types of Boolean operators?**"
   ]
  },
  {
   "cell_type": "markdown",
   "id": "3b74e497",
   "metadata": {},
   "source": [
    "The three different boolean operators are :\n",
    "\n",
    "**and** - It is only True when both the condition is True.\n",
    "\n",
    "**print(bool(not (6>5) and not (8>16)))**\n",
    "\n",
    "**output - False**\n",
    "\n",
    "**or** - It is True when any of the given condition is TRUE.\n",
    "\n",
    "**print(bool(not (6>5) or not (8>16)))**\n",
    "\n",
    "**output - True**\n",
    "\n",
    "**not** - It is negation operator.\n",
    "\n",
    "**print(not False)**\n",
    "\n",
    "\n",
    "**output - True**\n",
    "    "
   ]
  },
  {
   "cell_type": "markdown",
   "id": "1a165add",
   "metadata": {},
   "source": [
    "**3. Make a list of each Boolean operator's truth tables (i.e. every possible combination of Boolean values for the operator and what it evaluate ).**"
   ]
  },
  {
   "cell_type": "markdown",
   "id": "8aae8f52",
   "metadata": {},
   "source": [
    "The truth table of boolean operator AND, OR & NOT as follows --"
   ]
  },
  {
   "cell_type": "markdown",
   "id": "1e29f1a5",
   "metadata": {},
   "source": [
    "<table><tr><td class=\"border_t border_b selected\" colspan=\"1\" rowspan=\"1\" style=\"display: table-cell; text-align: center; vertical-align: top;\"><div class=\"wrap\"><div style=\"margin: 10px 5px;\" class=\"\" contenteditable=\"false\"><p><span>x</span></p></div></div></td><td colspan=\"1\" rowspan=\"1\" class=\"border_t border_b selected\" style=\"display: table-cell; text-align: center; vertical-align: top;\"><div class=\"wrap\"><div style=\"margin: 10px 5px;\" class=\"\" contenteditable=\"false\"><p><span>y</span></p></div></div></td><td colspan=\"1\" rowspan=\"1\" class=\"border_t border_b selected\" style=\"display: table-cell; text-align: center; vertical-align: top;\"><div class=\"wrap\"><div style=\"margin: 10px 5px;\" class=\"\" contenteditable=\"false\"><p><span>X AND Y</span></p></div></div></td><td colspan=\"1\" rowspan=\"1\" class=\"border_t border_b selected\" style=\"display: table-cell; text-align: center; vertical-align: top;\"><div class=\"wrap\"><div style=\"margin: 10px 5px;\" class=\"\" contenteditable=\"false\"><p><span>&nbsp;X OR Y</span></p></div></div></td><td class=\"selected\"><div class=\"wrap\"><div class=\"\" contenteditable=\"false\" style=\"margin: 10px 5px;\"><p><span>not X</span></p></div></div></td></tr><tr><td colspan=\"1\" rowspan=\"1\" class=\"border_l border_r border_t border_b selected\" style=\"display: table-cell; text-align: center; vertical-align: top;\"><div class=\"wrap\"><div style=\"margin: 10px 5px;\" class=\"\" contenteditable=\"false\"><p><span>TRUE</span></p></div></div></td><td colspan=\"1\" rowspan=\"1\" class=\"border_l border_r border_t border_b selected\" style=\"display: table-cell; text-align: center; vertical-align: top;\"><div class=\"wrap\"><div style=\"margin: 10px 5px;\"><p><span>TRUE</span></p></div></div></td><td colspan=\"1\" rowspan=\"1\" class=\"border_l border_r border_t border_b selected\" style=\"display: table-cell; text-align: center; vertical-align: top;\"><div class=\"wrap\"><div style=\"margin: 10px 5px;\"><p><span>TRUE</span></p></div></div></td><td colspan=\"1\" rowspan=\"1\" class=\"border_l border_r border_t border_b selected\" style=\"display: table-cell; text-align: center; vertical-align: top;\"><div class=\"wrap\" style=\"\"><div style=\"margin: 10px 5px;\"><p><span>TRUE</span></p></div></div></td><td class=\"selected\"><div class=\"wrap\"><div class=\"\" contenteditable=\"false\" style=\"margin: 10px 5px;\"><p><span>False</span></p></div></div></td></tr><tr><td colspan=\"1\" rowspan=\"1\" class=\"border_l border_r border_t border_b selected\" style=\"display: table-cell; text-align: center; vertical-align: top;\"><div class=\"wrap\"><div style=\"margin: 10px 5px;\"><p><span>TRUE</span></p></div></div></td><td colspan=\"1\" rowspan=\"1\" class=\"border_l border_r border_t border_b selected\" style=\"display: table-cell; text-align: center; vertical-align: top;\"><div class=\"wrap\"><div style=\"margin: 10px 5px;\"><p><span>FALSE</span></p></div></div></td><td colspan=\"1\" rowspan=\"1\" class=\"border_l border_r border_t border_b selected\" style=\"display: table-cell; text-align: center; vertical-align: top;\"><div class=\"wrap\"><div style=\"margin: 10px 5px;\"><p><span>FALSE</span></p></div></div></td><td colspan=\"1\" rowspan=\"1\" class=\"border_l border_r border_t border_b selected\" style=\"display: table-cell; text-align: center; vertical-align: top;\"><div class=\"wrap\" style=\"\"><div style=\"margin: 10px 5px;\"><p><span>TRUE</span></p></div></div></td><td class=\"selected\"><div class=\"wrap\"><div class=\"\" contenteditable=\"false\" style=\"margin: 10px 5px;\"><p><span>False</span></p></div></div></td></tr><tr><td colspan=\"1\" rowspan=\"1\" class=\"border_l border_r border_t border_b selected\" style=\"display: table-cell; text-align: center; vertical-align: top;\"><div class=\"wrap\"><div style=\"margin: 10px 5px;\"><p><span>FALSE</span></p></div></div></td><td colspan=\"1\" rowspan=\"1\" class=\"border_l border_r border_t border_b selected\" style=\"display: table-cell; text-align: center; vertical-align: top;\"><div class=\"wrap\"><div style=\"margin: 10px 5px;\"><p><span>TRUE</span></p></div></div></td><td colspan=\"1\" rowspan=\"1\" class=\"border_l border_r border_t border_b selected\" style=\"display: table-cell; text-align: center; vertical-align: top;\"><div class=\"wrap\"><div style=\"margin: 10px 5px;\"><p><span>FALSE</span></p></div></div></td><td colspan=\"1\" rowspan=\"1\" class=\"border_l border_r border_t border_b selected\" style=\"display: table-cell; text-align: center; vertical-align: top;\"><div class=\"wrap\" style=\"\"><div style=\"margin: 10px 5px;\"><p><span>TRUE</span></p></div></div></td><td class=\"selected\"><div class=\"wrap\"><div class=\"\" contenteditable=\"false\" style=\"margin: 10px 5px;\"><p><span>True</span></p></div></div></td></tr><tr><td style=\"vertical-align: top; text-align: center;\" class=\"border_b selected\"><div class=\"wrap\"><div style=\"margin: 10px 5px;\"><p><span>FALSE</span></p></div></div></td><td class=\"border_b selected\" style=\"vertical-align: top; text-align: center;\"><div class=\"wrap\"><div style=\"margin: 10px 5px;\"><p><span>FALSE</span></p></div></div></td><td class=\"border_b selected\" style=\"vertical-align: top; text-align: center;\"><div class=\"wrap\"><div style=\"margin: 10px 5px;\"><p><span>FALSE</span></p></div></div></td><td class=\"border_b selected\" style=\"text-align: center; vertical-align: top;\"><div class=\"wrap\" style=\"\"><div style=\"margin: 10px 5px;\"><p><span>FALSE</span></p></div></div></td><td class=\"selected\"><div class=\"wrap\"><div class=\"\" contenteditable=\"false\" style=\"margin: 10px 5px;\"><p><span>True</span></p></div></div></td></tr></table>"
   ]
  },
  {
   "cell_type": "markdown",
   "id": "e084e3e4",
   "metadata": {},
   "source": [
    "**4. What are the values of the following expressions?**\n"
   ]
  },
  {
   "cell_type": "markdown",
   "id": "b0a70560",
   "metadata": {},
   "source": [
    "a - (5 > 4) and (3 == 5)<br>\n",
    "b - not (5 > 4)<br>\n",
    "c - (5 > 4) or (3 == 5)<br>\n",
    "d - not ((5 > 4) or (3 == 5))<br>\n",
    "e - (True and True) and (True == False)<br>\n",
    "f - (not False) or (not True)\n"
   ]
  },
  {
   "cell_type": "markdown",
   "id": "03f556c1",
   "metadata": {},
   "source": [
    "**Answer** -<br>\n",
    "a - (5 > 4) and (3 == 5)<br>\n",
    "    True and False<br>\n",
    "    False<br>\n",
    "b - not(5>4)<br>\n",
    "    False<br>\n",
    "c - (5 > 4) or (3 == 5)<br>\n",
    "    True or False<br>\n",
    "    True<br>\n",
    "d - not ((5 > 4) or (3 == 5))<br>\n",
    "    False or False<br>\n",
    "    False<br>\n",
    "e - (True and True) and (True == False)<br>\n",
    "    True and False<br>\n",
    "    False<br>\n",
    "f - (not False) or (not True)<br>\n",
    "    True or False<br>\n",
    "    True"
   ]
  },
  {
   "cell_type": "markdown",
   "id": "0f1ef47f",
   "metadata": {},
   "source": [
    "**5. What are the six comparison operators?**"
   ]
  },
  {
   "cell_type": "markdown",
   "id": "edcf0b3d",
   "metadata": {},
   "source": [
    "**Answer**: Six comparisons are as follows -<br>\n",
    "\n",
    "#### == : equal to <br>\n",
    "#### != : not equal to <br>\n",
    "#### >= : greater than equal to<br>\n",
    "#### <= : less than equal to<br>\n",
    "#### >  : Greater than<br>\n",
    "#### <  : less than"
   ]
  },
  {
   "cell_type": "markdown",
   "id": "2120da92",
   "metadata": {},
   "source": [
    "**6. How do you tell the difference between the equal to and assignment operators?Describe a condition and when you would use one.**"
   ]
  },
  {
   "cell_type": "markdown",
   "id": "1b5fe130",
   "metadata": {},
   "source": [
    "**Answer** : The major difference between both of them is - one is use for comparison and other is use to assign the value to the variable. The first one denoted with '==' sign and the later one is denoted with '=' sign.<br>\n",
    "\n",
    "Example:\n"
   ]
  },
  {
   "cell_type": "code",
   "execution_count": 4,
   "id": "49ba2f35",
   "metadata": {},
   "outputs": [
    {
     "name": "stdout",
     "output_type": "stream",
     "text": [
      "False\n"
     ]
    }
   ],
   "source": [
    "if 5 == 6:\n",
    "    print(\"True\")\n",
    "else:\n",
    "    print(\"False\")"
   ]
  },
  {
   "cell_type": "code",
   "execution_count": 5,
   "id": "ea738960",
   "metadata": {},
   "outputs": [
    {
     "name": "stdout",
     "output_type": "stream",
     "text": [
      "5\n",
      "6\n"
     ]
    }
   ],
   "source": [
    "a = 5\n",
    "b = 6\n",
    "print(a)\n",
    "print(b)"
   ]
  },
  {
   "cell_type": "markdown",
   "id": "caa6127b",
   "metadata": {},
   "source": [
    "**7. Identify the three blocks in this code:**<br>\n",
    "spam = 0<br>\n",
    "if spam == 10:<br>\n",
    "print('eggs')<br>\n",
    "if spam > 5:<br>\n",
    "print('bacon')<br>\n",
    "else:<br>\n",
    "print('ham')<br>\n",
    "print('spam')<br>\n",
    "print('spam')<br>\n"
   ]
  },
  {
   "cell_type": "code",
   "execution_count": 6,
   "id": "b6ddee14",
   "metadata": {},
   "outputs": [
    {
     "name": "stdout",
     "output_type": "stream",
     "text": [
      "ham\n",
      "spam\n",
      "spam\n"
     ]
    }
   ],
   "source": [
    "spam = 0\n",
    "#----------First block of code--------#\n",
    "if spam == 10:\n",
    "    print('eggs')\n",
    "#----------second block of code--------#    \n",
    "if spam > 5:\n",
    "    print('bacon')\n",
    "#----------third block of code--------# \n",
    "else:\n",
    "    print('ham')\n",
    "    print('spam')\n",
    "    print('spam')"
   ]
  },
  {
   "cell_type": "markdown",
   "id": "3397bad3",
   "metadata": {},
   "source": [
    "**8. Write code that prints Hello if 1 is stored in spam, prints Howdy if 2 is stored in spam, and prints Greetings! if anything else is stored in spam.**"
   ]
  },
  {
   "cell_type": "code",
   "execution_count": 8,
   "id": "3d0442e3",
   "metadata": {},
   "outputs": [
    {
     "name": "stdout",
     "output_type": "stream",
     "text": [
      "Greetings!\n"
     ]
    }
   ],
   "source": [
    "spam = 6\n",
    "if spam == 1:\n",
    "    print(\"Hello\")\n",
    "elif spam == 2:\n",
    "    print(\"Howdy\")\n",
    "else:\n",
    "    print(\"Greetings!\")"
   ]
  },
  {
   "cell_type": "markdown",
   "id": "8e395b7a",
   "metadata": {},
   "source": [
    "**9. If your programme is stuck in an endless loop, what keys you’ll press?**"
   ]
  },
  {
   "cell_type": "markdown",
   "id": "35c8ba26",
   "metadata": {},
   "source": [
    "**Answer** : In case of Jupyter notebook we can press double I or in general we can use ctrl+c to interrupt the infinte loop."
   ]
  },
  {
   "cell_type": "markdown",
   "id": "bd7230d7",
   "metadata": {},
   "source": [
    "**10. How can you tell the difference between break and continue?**"
   ]
  },
  {
   "cell_type": "markdown",
   "id": "3be75414",
   "metadata": {},
   "source": [
    "**Answer** :break : This keyword stop the loop from being further executed.\n",
    "\n",
    "continue : This keyword interrupt the current loop but run the other loop before and after that."
   ]
  },
  {
   "cell_type": "code",
   "execution_count": 29,
   "id": "4cf5e2ae",
   "metadata": {},
   "outputs": [
    {
     "name": "stdout",
     "output_type": "stream",
     "text": [
      "0\n",
      "1\n",
      "2\n",
      "3\n",
      "4\n",
      "5\n"
     ]
    }
   ],
   "source": [
    "a = 0\n",
    "for a in range(10):\n",
    "    \n",
    "    if a != 6:\n",
    "        print(a)\n",
    "    else:\n",
    "        break\n",
    "        "
   ]
  },
  {
   "cell_type": "code",
   "execution_count": 30,
   "id": "411d2527",
   "metadata": {},
   "outputs": [
    {
     "name": "stdout",
     "output_type": "stream",
     "text": [
      "0\n",
      "1\n",
      "2\n",
      "3\n",
      "4\n",
      "5\n",
      "7\n",
      "8\n",
      "9\n"
     ]
    }
   ],
   "source": [
    "a = 0\n",
    "for a in range(10):\n",
    "    if a != 6:\n",
    "        print(a)\n",
    "    else:\n",
    "        continue\n",
    "        \n",
    "        "
   ]
  },
  {
   "cell_type": "markdown",
   "id": "1e5ead16",
   "metadata": {},
   "source": [
    "**11. In a for loop, what is the difference between range(10), range(0, 10), and range(0, 10, 1)?**"
   ]
  },
  {
   "cell_type": "markdown",
   "id": "949c05d2",
   "metadata": {},
   "source": [
    "**Answer**: range(10) : In this range function we did not specified the start point so it will take start point as 0 by default.And the end point is 10 so it will print till 9 (if end point is n then it will print n-1)<br>\n",
    "\n",
    "range(0,10) : Here the start and end point both defind. So it will start from 0 (if we defined any other number it start from there) and it end at 9.<br>\n",
    "\n",
    "range(0,10,1) : In this range one extra things is defined i.e. steps other than start and end point. Step defined that how much gap or skip will use between every print.The ouput of this program will be:<br>\n",
    "0<br>\n",
    "1<br>\n",
    "2<br>\n",
    "3<br>\n",
    "4<br>\n",
    "5<br>\n",
    "6<br>\n",
    "7<br>\n",
    "8<br>\n",
    "9<br>\n",
    "\n",
    "\n"
   ]
  },
  {
   "cell_type": "markdown",
   "id": "487804f4",
   "metadata": {},
   "source": [
    "**12. Write a short program that prints the numbers 1 to 10 using a for loop. Then write an equivalent program that prints the numbers 1 to 10 using a while loop.**"
   ]
  },
  {
   "cell_type": "code",
   "execution_count": 35,
   "id": "f779f2a8",
   "metadata": {},
   "outputs": [
    {
     "name": "stdout",
     "output_type": "stream",
     "text": [
      "1\n",
      "2\n",
      "3\n",
      "4\n",
      "5\n",
      "6\n",
      "7\n",
      "8\n",
      "9\n",
      "10\n"
     ]
    }
   ],
   "source": [
    "for i in range(1,11):\n",
    "    print(i)"
   ]
  },
  {
   "cell_type": "code",
   "execution_count": 37,
   "id": "f30a3c86",
   "metadata": {},
   "outputs": [
    {
     "name": "stdout",
     "output_type": "stream",
     "text": [
      "1\n",
      "2\n",
      "3\n",
      "4\n",
      "5\n",
      "6\n",
      "7\n",
      "8\n",
      "9\n",
      "10\n"
     ]
    }
   ],
   "source": [
    "a = 1\n",
    "while (a != 11):\n",
    "    print(a)\n",
    "    a = a+1\n",
    "    "
   ]
  },
  {
   "cell_type": "markdown",
   "id": "a2bdd0c8",
   "metadata": {},
   "source": [
    "**13. If you had a function named bacon() inside a module named spam, how would you call it after importing spam?**"
   ]
  },
  {
   "cell_type": "markdown",
   "id": "d6d650ef",
   "metadata": {},
   "source": [
    "**Answer** : First we need to use import keyword to import the module then use the dot operator use the function.<br>\n",
    "\n",
    "import spam <br>\n",
    "spam.bacon()<br>\n",
    "\n",
    "or<br>\n",
    "\n",
    "from spam import bacon\n"
   ]
  },
  {
   "cell_type": "code",
   "execution_count": null,
   "id": "93a60549",
   "metadata": {},
   "outputs": [],
   "source": []
  }
 ],
 "metadata": {
  "kernelspec": {
   "display_name": "Python 3 (ipykernel)",
   "language": "python",
   "name": "python3"
  },
  "language_info": {
   "codemirror_mode": {
    "name": "ipython",
    "version": 3
   },
   "file_extension": ".py",
   "mimetype": "text/x-python",
   "name": "python",
   "nbconvert_exporter": "python",
   "pygments_lexer": "ipython3",
   "version": "3.9.12"
  }
 },
 "nbformat": 4,
 "nbformat_minor": 5
}
