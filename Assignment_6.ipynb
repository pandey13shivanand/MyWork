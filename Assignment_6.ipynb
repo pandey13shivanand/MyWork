{
 "cells": [
  {
   "cell_type": "markdown",
   "id": "3fa6d784",
   "metadata": {},
   "source": [
    "### Assignment 6"
   ]
  },
  {
   "cell_type": "markdown",
   "id": "3ede9f45",
   "metadata": {},
   "source": [
    "**Q 1. What are escape characters, and how do you use them?**"
   ]
  },
  {
   "cell_type": "markdown",
   "id": "b4e59f4d",
   "metadata": {},
   "source": [
    "**Answer :** An escape character is backlash \\ followed by character you want to insert. It is use when you want to insert the illigal character in the string."
   ]
  },
  {
   "cell_type": "markdown",
   "id": "80dac590",
   "metadata": {},
   "source": [
    "txt = \"Hey this is \"James Bob\" here\""
   ]
  },
  {
   "cell_type": "markdown",
   "id": "ca2ed9f2",
   "metadata": {},
   "source": [
    "Here we can see \"James Bob\" is illigal character for the string. This problem can be solve with the use of escape character. Now it will not throw the error. We can see in the example - "
   ]
  },
  {
   "cell_type": "code",
   "execution_count": 44,
   "id": "b08bea71",
   "metadata": {},
   "outputs": [
    {
     "name": "stdout",
     "output_type": "stream",
     "text": [
      "Hey this is \"James Bob\" here\n"
     ]
    }
   ],
   "source": [
    "txt = \"Hey this is \\\"James Bob\\\" here\"\n",
    "print(txt)"
   ]
  },
  {
   "cell_type": "markdown",
   "id": "ee8f9a49",
   "metadata": {},
   "source": [
    "**Q2. What do the escape characters n and t stand for?**"
   ]
  },
  {
   "cell_type": "markdown",
   "id": "e76bf5e3",
   "metadata": {},
   "source": [
    "**Answer :** The escape character \\n use to print the value in new line and \\t use to give tab space between two character. We can see in the example :\n"
   ]
  },
  {
   "cell_type": "code",
   "execution_count": 45,
   "id": "e4cc93de",
   "metadata": {},
   "outputs": [
    {
     "name": "stdout",
     "output_type": "stream",
     "text": [
      "You can see\ttab space between see and tab but please print Hello again in new line\n",
      "Hello\n"
     ]
    }
   ],
   "source": [
    "txt1 = \"You can see\\ttab space between see and tab but please print Hello again in new line\\nHello\"\n",
    "print(txt1)"
   ]
  },
  {
   "cell_type": "markdown",
   "id": "860cca6f",
   "metadata": {},
   "source": [
    "**Q3. What is the way to include backslash characters in a string?**"
   ]
  },
  {
   "cell_type": "markdown",
   "id": "76214570",
   "metadata": {},
   "source": [
    "**Answer:** An escape character is backlash \\ followed by character you want to insert in the string is the way to insert backlash character in the string. We can see in the given example :"
   ]
  },
  {
   "cell_type": "code",
   "execution_count": 48,
   "id": "c9c6d110",
   "metadata": {},
   "outputs": [
    {
     "ename": "SyntaxError",
     "evalue": "invalid syntax (809566458.py, line 1)",
     "output_type": "error",
     "traceback": [
      "\u001b[1;36m  Input \u001b[1;32mIn [48]\u001b[1;36m\u001b[0m\n\u001b[1;33m    txt = \"Hey this is \"James Bob\" here\"\u001b[0m\n\u001b[1;37m                        ^\u001b[0m\n\u001b[1;31mSyntaxError\u001b[0m\u001b[1;31m:\u001b[0m invalid syntax\n"
     ]
    }
   ],
   "source": [
    "txt = \"Hey this is \"James Bob\" here\""
   ]
  },
  {
   "cell_type": "markdown",
   "id": "495c063c",
   "metadata": {},
   "source": [
    "Now insert \"James Bob\" with the \\ character."
   ]
  },
  {
   "cell_type": "code",
   "execution_count": 49,
   "id": "cc27fd2a",
   "metadata": {},
   "outputs": [
    {
     "name": "stdout",
     "output_type": "stream",
     "text": [
      "Hey this is \"James Bob\" here\n"
     ]
    }
   ],
   "source": [
    "txt = \"Hey this is \\\"James Bob\\\" here\"\n",
    "print(txt)"
   ]
  },
  {
   "cell_type": "markdown",
   "id": "d502836a",
   "metadata": {},
   "source": [
    "**Q4. The string \"Howl's Moving Castle\" is a correct value. Why isn't the single quote character in the word Howl's not escaped a problem?**"
   ]
  },
  {
   "cell_type": "markdown",
   "id": "4962fac2",
   "metadata": {},
   "source": [
    "**Answer :** The single quote in Howl's is fine because it is not use to start and end the sentence on the other hand double quote is use for the start and end the sentence that is why double quote is escaped problem."
   ]
  },
  {
   "cell_type": "markdown",
   "id": "0cc3d685",
   "metadata": {},
   "source": [
    "**Q5. How do you write a string of newlines if you don't want to use the n character?**"
   ]
  },
  {
   "cell_type": "markdown",
   "id": "0c98863b",
   "metadata": {},
   "source": [
    "**Answer :** We can use ''' ''' (three single quotes) to print string in new line or as we want."
   ]
  },
  {
   "cell_type": "code",
   "execution_count": 50,
   "id": "4349610c",
   "metadata": {},
   "outputs": [],
   "source": [
    "txt3 = '''My name is James Bob. \n",
    "I am python developer'''"
   ]
  },
  {
   "cell_type": "code",
   "execution_count": 51,
   "id": "f5039d6d",
   "metadata": {},
   "outputs": [
    {
     "name": "stdout",
     "output_type": "stream",
     "text": [
      "My name is James Bob. \n",
      "I am python developer\n"
     ]
    }
   ],
   "source": [
    "print(txt3)"
   ]
  },
  {
   "cell_type": "markdown",
   "id": "b8966482",
   "metadata": {},
   "source": [
    "**Q6. What are the values of the given expressions?**"
   ]
  },
  {
   "cell_type": "markdown",
   "id": "ed8cf588",
   "metadata": {},
   "source": [
    "**Answer**:<br>\n",
    "\n",
    "**Expression 1:** 'Hello, world!'[1]\n",
    "\n",
    "The above expression print the first index value."
   ]
  },
  {
   "cell_type": "code",
   "execution_count": 52,
   "id": "e12f5121",
   "metadata": {},
   "outputs": [
    {
     "data": {
      "text/plain": [
       "'e'"
      ]
     },
     "execution_count": 52,
     "metadata": {},
     "output_type": "execute_result"
    }
   ],
   "source": [
    "\n",
    "'Hello, world!'[1]\n"
   ]
  },
  {
   "cell_type": "markdown",
   "id": "08af79f3",
   "metadata": {},
   "source": [
    "**Expression 2:** 'Hello, world!'[0:5]\n",
    "\n",
    "The above expression print the character from index 0 to 4th index."
   ]
  },
  {
   "cell_type": "code",
   "execution_count": 53,
   "id": "7b828400",
   "metadata": {},
   "outputs": [
    {
     "data": {
      "text/plain": [
       "'Hello'"
      ]
     },
     "execution_count": 53,
     "metadata": {},
     "output_type": "execute_result"
    }
   ],
   "source": [
    "'Hello, world!'[0:5]\n"
   ]
  },
  {
   "cell_type": "markdown",
   "id": "84e8535f",
   "metadata": {},
   "source": [
    "**Expression 3:**'Hello, world!'[:5]\n",
    "\n",
    "The above also print the same i.e. from index 0 to index 4th because by default it will take start as 0th index."
   ]
  },
  {
   "cell_type": "code",
   "execution_count": 54,
   "id": "d0418dfb",
   "metadata": {},
   "outputs": [
    {
     "data": {
      "text/plain": [
       "'Hello'"
      ]
     },
     "execution_count": 54,
     "metadata": {},
     "output_type": "execute_result"
    }
   ],
   "source": [
    "'Hello, world!'[:5]\n"
   ]
  },
  {
   "cell_type": "markdown",
   "id": "790d2b4e",
   "metadata": {},
   "source": [
    "**Expression 4:**'Hello, world!'[3:]\n",
    "\n",
    "The above expression will print the characters from index 3rd to last index because the end point for this expression by default will be last index."
   ]
  },
  {
   "cell_type": "code",
   "execution_count": 55,
   "id": "112c1815",
   "metadata": {},
   "outputs": [
    {
     "data": {
      "text/plain": [
       "'lo, world!'"
      ]
     },
     "execution_count": 55,
     "metadata": {},
     "output_type": "execute_result"
    }
   ],
   "source": [
    "'Hello, world!'[3:]\n"
   ]
  },
  {
   "cell_type": "markdown",
   "id": "8ce8c6bc",
   "metadata": {},
   "source": [
    "**Q7. What are the values of the following expressions?<br>\n",
    "'Hello'.upper()<br>\n",
    "'Hello'.upper().isupper()<br>\n",
    "'Hello'.upper().lower()**\n"
   ]
  },
  {
   "cell_type": "markdown",
   "id": "6c44a464",
   "metadata": {},
   "source": [
    "**Answer :**<br> **upper()** - This function convert all the character into upper alphabet.<br>\n",
    "**isupper()** - It will give you true when all the characters are in upper case else give you false.<br>\n",
    "**lower()** - It will convert all the character into lower case."
   ]
  },
  {
   "cell_type": "code",
   "execution_count": 56,
   "id": "480f4273",
   "metadata": {},
   "outputs": [
    {
     "data": {
      "text/plain": [
       "'HELLO'"
      ]
     },
     "execution_count": 56,
     "metadata": {},
     "output_type": "execute_result"
    }
   ],
   "source": [
    "'Hello'.upper()"
   ]
  },
  {
   "cell_type": "code",
   "execution_count": 57,
   "id": "d5e3727b",
   "metadata": {},
   "outputs": [
    {
     "data": {
      "text/plain": [
       "True"
      ]
     },
     "execution_count": 57,
     "metadata": {},
     "output_type": "execute_result"
    }
   ],
   "source": [
    "'Hello'.upper().isupper()\n"
   ]
  },
  {
   "cell_type": "code",
   "execution_count": 58,
   "id": "82aaa775",
   "metadata": {},
   "outputs": [
    {
     "data": {
      "text/plain": [
       "'hello'"
      ]
     },
     "execution_count": 58,
     "metadata": {},
     "output_type": "execute_result"
    }
   ],
   "source": [
    "'Hello'.upper().lower()"
   ]
  },
  {
   "cell_type": "markdown",
   "id": "d87a2141",
   "metadata": {},
   "source": [
    "**Q 8. What are the values of the following expressions?<br>\n",
    "'Remember, remember, the fifth of July.'.split()**\n"
   ]
  },
  {
   "cell_type": "markdown",
   "id": "794a616a",
   "metadata": {},
   "source": [
    "**Answer :** split() function split the words on the basis of argument pass in the function. And print the list of all the words in sentence."
   ]
  },
  {
   "cell_type": "code",
   "execution_count": 59,
   "id": "9c9dfb38",
   "metadata": {},
   "outputs": [
    {
     "data": {
      "text/plain": [
       "['Remember,', 'remember,', 'the', 'fifth', 'of', 'July.']"
      ]
     },
     "execution_count": 59,
     "metadata": {},
     "output_type": "execute_result"
    }
   ],
   "source": [
    "'Remember, remember, the fifth of July.'.split()"
   ]
  },
  {
   "cell_type": "markdown",
   "id": "f8d5176e",
   "metadata": {},
   "source": [
    "The below expression first split the sentence then join the sentence with '-' ."
   ]
  },
  {
   "cell_type": "code",
   "execution_count": 60,
   "id": "fcf0c1ce",
   "metadata": {},
   "outputs": [
    {
     "data": {
      "text/plain": [
       "'There-can-only-one.'"
      ]
     },
     "execution_count": 60,
     "metadata": {},
     "output_type": "execute_result"
    }
   ],
   "source": [
    "'-'.join('There can only one.'.split())"
   ]
  },
  {
   "cell_type": "markdown",
   "id": "b261c9eb",
   "metadata": {},
   "source": [
    "**Q 9. What are the methods for right-justifying, left-justifying, and centering a string?**"
   ]
  },
  {
   "cell_type": "markdown",
   "id": "15ee5c5e",
   "metadata": {},
   "source": [
    "**Answer :** <br>\n",
    "**right-justifying** - There is rjust( len, fillchr ) function which is use for right-justifying. len is argument by which we shift the sentence and fillchr is fill character in that place.<br>\n",
    "\n",
    "**left-justifying** - There is ljust( len, fillchr ) function which is use for left-justifying. len is argument by which we shift the sentence and fillchr is fill character in that place.<br>\n",
    "\n",
    "**center** - This will keep your sentence at center position. center(len,fillchr) also take two argument."
   ]
  },
  {
   "cell_type": "code",
   "execution_count": 61,
   "id": "349f4c8d",
   "metadata": {},
   "outputs": [
    {
     "name": "stdout",
     "output_type": "stream",
     "text": [
      "This is James Bob from America.\n",
      "This is James Bob from America.*********\n",
      "*********This is James Bob from America.\n",
      "****This is James Bob from America.*****\n"
     ]
    }
   ],
   "source": [
    "text =  \"This is James Bob from America.\"\n",
    "print(text)\n",
    "\n",
    "print(text.ljust(40,\"*\"))\n",
    "\n",
    "print(text.rjust(40,\"*\"))\n",
    "\n",
    "print(text.center(40,\"*\"))"
   ]
  },
  {
   "cell_type": "markdown",
   "id": "35efe144",
   "metadata": {},
   "source": [
    "**Q10. What is the best way to remove whitespace characters from the start or end?**"
   ]
  },
  {
   "cell_type": "markdown",
   "id": "e5f03b5f",
   "metadata": {},
   "source": [
    "**Answer** : strip() is use to remove white spaces from the string.We can see in the example - "
   ]
  },
  {
   "cell_type": "code",
   "execution_count": 62,
   "id": "3574eba1",
   "metadata": {},
   "outputs": [
    {
     "data": {
      "text/plain": [
       "'M.S. Dhoni is the wicket-keeper in world'"
      ]
     },
     "execution_count": 62,
     "metadata": {},
     "output_type": "execute_result"
    }
   ],
   "source": [
    "text10 =  \"   M.S. Dhoni is the wicket-keeper in world    \"\n",
    "text10.strip()"
   ]
  }
 ],
 "metadata": {
  "kernelspec": {
   "display_name": "Python 3 (ipykernel)",
   "language": "python",
   "name": "python3"
  },
  "language_info": {
   "codemirror_mode": {
    "name": "ipython",
    "version": 3
   },
   "file_extension": ".py",
   "mimetype": "text/x-python",
   "name": "python",
   "nbconvert_exporter": "python",
   "pygments_lexer": "ipython3",
   "version": "3.9.12"
  }
 },
 "nbformat": 4,
 "nbformat_minor": 5
}
