{
 "cells": [
  {
   "cell_type": "markdown",
   "id": "e99dd66a",
   "metadata": {},
   "source": [
    "### Assignment 4"
   ]
  },
  {
   "cell_type": "markdown",
   "id": "d51b6513",
   "metadata": {},
   "source": [
    "**Q 1 : What exactly is [ ]?**"
   ]
  },
  {
   "cell_type": "markdown",
   "id": "37d08cf0",
   "metadata": {},
   "source": [
    "**Answer** : In python, above symbol is use to define the list. List is a data type which allows you to store multiple data types(int, float, string etc) at once and we perform different operation on it."
   ]
  },
  {
   "cell_type": "code",
   "execution_count": 1,
   "id": "7d29aff6",
   "metadata": {},
   "outputs": [
    {
     "name": "stdout",
     "output_type": "stream",
     "text": [
      "3\n"
     ]
    }
   ],
   "source": [
    "a = int(int('3' * 2) / 11)\n",
    "print(a)"
   ]
  },
  {
   "cell_type": "code",
   "execution_count": 2,
   "id": "fbc2eaa8",
   "metadata": {},
   "outputs": [
    {
     "name": "stdout",
     "output_type": "stream",
     "text": [
      "33\n"
     ]
    }
   ],
   "source": [
    "print(int('3'*2))"
   ]
  },
  {
   "cell_type": "markdown",
   "id": "5ae3df24",
   "metadata": {},
   "source": [
    "**Q 2. In a list of values stored in a variable called spam, how would you assign the value 'hello' as the third value? (Assume [2, 4, 6, 8, 10] are in spam.)**"
   ]
  },
  {
   "cell_type": "markdown",
   "id": "ce35ba31",
   "metadata": {},
   "source": [
    "**Answer:With replacing the value already present at third postion :**"
   ]
  },
  {
   "cell_type": "code",
   "execution_count": 11,
   "id": "19b72568",
   "metadata": {},
   "outputs": [
    {
     "name": "stdout",
     "output_type": "stream",
     "text": [
      "[2, 4, 'hello', 8, 10]\n"
     ]
    }
   ],
   "source": [
    "spam = [2, 4, 6, 8, 10]\n",
    "spam[2] = 'hello'\n",
    "print(spam)"
   ]
  },
  {
   "cell_type": "markdown",
   "id": "412d2a61",
   "metadata": {},
   "source": [
    "**Without replacing the value already present at third position**"
   ]
  },
  {
   "cell_type": "code",
   "execution_count": 12,
   "id": "8b3987d3",
   "metadata": {},
   "outputs": [
    {
     "data": {
      "text/plain": [
       "[2, 4, 'hello', 6, 8, 10]"
      ]
     },
     "execution_count": 12,
     "metadata": {},
     "output_type": "execute_result"
    }
   ],
   "source": [
    "spam = [2, 4, 6, 8, 10]\n",
    "spam.insert(2,'hello')\n",
    "spam"
   ]
  },
  {
   "cell_type": "markdown",
   "id": "066a76f8",
   "metadata": {},
   "source": [
    "**Let&#39;s pretend the spam includes the list [&#39;a&#39;, &#39;b&#39;, &#39;c&#39;, &#39;d&#39;] for the next three queries.<br>\n",
    "Q3. What is the value of spam[int(int(&#39;3&#39; * 2) / 11)]?<br>\n",
    "Q4. What is the value of spam[-1]?<br>\n",
    "Q5. What is the value of spam[:2]?**"
   ]
  },
  {
   "cell_type": "code",
   "execution_count": 16,
   "id": "e20ff4e0",
   "metadata": {},
   "outputs": [
    {
     "data": {
      "text/plain": [
       "'d'"
      ]
     },
     "execution_count": 16,
     "metadata": {},
     "output_type": "execute_result"
    }
   ],
   "source": [
    "#Answer 3\n",
    "spam = ['a','b','c','d']\n",
    "spam[int(int('3'*2)/11)]"
   ]
  },
  {
   "cell_type": "markdown",
   "id": "d36def2b",
   "metadata": {},
   "source": [
    "**Explanation :**<br>\n",
    "int('3'*2)<br>\n",
    "int('33')<br>\n",
    "int(33/11)<br>\n",
    "spam[3]<br>\n",
    "\n",
    "Hence the value of spam[3] is 'd'.\n"
   ]
  },
  {
   "cell_type": "code",
   "execution_count": 18,
   "id": "e754bebd",
   "metadata": {},
   "outputs": [
    {
     "data": {
      "text/plain": [
       "'d'"
      ]
     },
     "execution_count": 18,
     "metadata": {},
     "output_type": "execute_result"
    }
   ],
   "source": [
    "#Answer 4 : The negative index start from the last hence d is at -1 position.\n",
    "spam[-1]"
   ]
  },
  {
   "cell_type": "code",
   "execution_count": 20,
   "id": "62da569b",
   "metadata": {},
   "outputs": [
    {
     "data": {
      "text/plain": [
       "['a', 'b']"
      ]
     },
     "execution_count": 20,
     "metadata": {},
     "output_type": "execute_result"
    }
   ],
   "source": [
    "#Answer 5 : In list this --> [start index:end index] represent . In this representation end point is not included. So for above question\n",
    "#start index is by default zero and end index is 2 (but 2 is not included). Hence answer will be ['a','b']\n",
    "spam[:2]"
   ]
  },
  {
   "cell_type": "markdown",
   "id": "46cd874e",
   "metadata": {},
   "source": [
    "**Let's pretend bacon has the list [3.14, 'cat,' 11, 'cat,' True] for the next three questions.<br>\n",
    "Q 6. What is the value of bacon.index('cat')?<br>\n",
    "Q 7. How does bacon.append(99) change the look of the list value in bacon?<br>\n",
    "Q 8. How does bacon.remove('cat') change the look of the list in bacon?**\n"
   ]
  },
  {
   "cell_type": "markdown",
   "id": "e4ba470b",
   "metadata": {},
   "source": [
    "**Answer 6:**"
   ]
  },
  {
   "cell_type": "code",
   "execution_count": 34,
   "id": "350019e4",
   "metadata": {},
   "outputs": [
    {
     "data": {
      "text/plain": [
       "1"
      ]
     },
     "execution_count": 34,
     "metadata": {},
     "output_type": "execute_result"
    }
   ],
   "source": [
    "#list.index will give you the number of index for that particular value. If the duplicate value available, it will give you \n",
    "# the index of first appearence of that value\n",
    "\n",
    "bacon = [3.14,'cat',11,'cat',True]\n",
    "bacon.index('cat')\n"
   ]
  },
  {
   "cell_type": "markdown",
   "id": "922afc50",
   "metadata": {},
   "source": [
    "**Answer 7:**"
   ]
  },
  {
   "cell_type": "code",
   "execution_count": 36,
   "id": "3b1524a8",
   "metadata": {},
   "outputs": [
    {
     "data": {
      "text/plain": [
       "[3.14, 'cat', 11, 'cat', True, 99]"
      ]
     },
     "execution_count": 36,
     "metadata": {},
     "output_type": "execute_result"
    }
   ],
   "source": [
    "#It will add the 99 at the last index in the list\n",
    "bacon.append(99)\n",
    "bacon"
   ]
  },
  {
   "cell_type": "markdown",
   "id": "15afa6d7",
   "metadata": {},
   "source": [
    "**Answer 8:**"
   ]
  },
  {
   "cell_type": "code",
   "execution_count": 37,
   "id": "6d8336e4",
   "metadata": {},
   "outputs": [
    {
     "data": {
      "text/plain": [
       "[3.14, 11, 'cat', True, 99]"
      ]
     },
     "execution_count": 37,
     "metadata": {},
     "output_type": "execute_result"
    }
   ],
   "source": [
    "#The remove() function will remove the value from the list. And if the values are duplicate then it will remove the value which appeared\n",
    "#first.\n",
    "bacon.remove('cat')\n",
    "bacon"
   ]
  },
  {
   "cell_type": "markdown",
   "id": "41a5cbb4",
   "metadata": {},
   "source": [
    "**Q9. What are the list concatenation and list replication operators?**"
   ]
  },
  {
   "cell_type": "markdown",
   "id": "152c1781",
   "metadata": {},
   "source": [
    "**Answer** : \n",
    "Concatenation is process of adding multiple list element in single list. For concatenation '+' operator is used. One list are added at the end of another list.\n",
    "\n",
    "Replication is process of duplicating the list. '*' operator is used for replication operation.The number duplicate element depend upon the number of times we are duplicating the list. Look at the example for more clarification: "
   ]
  },
  {
   "cell_type": "code",
   "execution_count": 5,
   "id": "1bb3d265",
   "metadata": {},
   "outputs": [
    {
     "name": "stdout",
     "output_type": "stream",
     "text": [
      "[1, 9, 8, 6, 7, 8]\n",
      "[1, 9, 8, 1, 9, 8]\n",
      "[6, 7, 8, 6, 7, 8, 6, 7, 8]\n"
     ]
    }
   ],
   "source": [
    "list1 = [1,9,8]\n",
    "list2 = [6,7,8]\n",
    "list3 = list1 + list2\n",
    "list4 = list1 * 2\n",
    "list5 = list2 * 3\n",
    "\n",
    "print(list3)\n",
    "print(list4)\n",
    "print(list5)"
   ]
  },
  {
   "cell_type": "markdown",
   "id": "2399568a",
   "metadata": {},
   "source": [
    "**Q10. What is difference between the list methods append() and insert()?**"
   ]
  },
  {
   "cell_type": "markdown",
   "id": "9cce4de1",
   "metadata": {},
   "source": [
    "**Answer**: append() method is used to add element in the list but this only add the element in the list at the last position but the insert function can add element with the given position. **insert()** accept two argument i.e. position and element (which we want to insert) while **append()** accept only one argument i.e. element which we want to add. **insert()** can add element at any position but if the position is greater than n+1 (where n is index number) it will add the element at **(n+1)th** position."
   ]
  },
  {
   "cell_type": "code",
   "execution_count": 13,
   "id": "3fba30f7",
   "metadata": {},
   "outputs": [
    {
     "name": "stdout",
     "output_type": "stream",
     "text": [
      "[1, 2, 100, 3, 4, 5]\n"
     ]
    }
   ],
   "source": [
    "l1 = [1,2,3,4,5]\n",
    "l1.insert(2,100)\n",
    "print(l1)"
   ]
  },
  {
   "cell_type": "code",
   "execution_count": 15,
   "id": "efcb70ba",
   "metadata": {},
   "outputs": [
    {
     "name": "stdout",
     "output_type": "stream",
     "text": [
      "[1, 2, 3, 4, 5, 8]\n"
     ]
    }
   ],
   "source": [
    "l2 = [1,2,3,4,5]\n",
    "l2.append(8)\n",
    "print(l2)"
   ]
  },
  {
   "cell_type": "markdown",
   "id": "7dc5a743",
   "metadata": {},
   "source": [
    "**Q 11. What are the two methods for removing items from a list?**"
   ]
  },
  {
   "cell_type": "markdown",
   "id": "1eb5f148",
   "metadata": {},
   "source": [
    "**Answer**: The two methods for removing items from a list are - 1: remove()  2: pop()<br> \n",
    "remove() : The remove() method will remove specific element. The remove() function will take one argument and the argument is the element which we want to remove.<br>\n",
    "\n",
    "\n",
    "pop(): The pop() function will remove the last element of the list and return that element.\n",
    "\n",
    "\n"
   ]
  },
  {
   "cell_type": "code",
   "execution_count": 23,
   "id": "98241d7b",
   "metadata": {},
   "outputs": [],
   "source": [
    "l1 = [1,4,100,6,8,9]\n",
    "l1.remove(100)"
   ]
  },
  {
   "cell_type": "code",
   "execution_count": 24,
   "id": "8a3f311f",
   "metadata": {},
   "outputs": [
    {
     "name": "stdout",
     "output_type": "stream",
     "text": [
      "[1, 4, 6, 8, 9]\n"
     ]
    }
   ],
   "source": [
    "print(l1)"
   ]
  },
  {
   "cell_type": "code",
   "execution_count": 25,
   "id": "326243a7",
   "metadata": {},
   "outputs": [
    {
     "data": {
      "text/plain": [
       "9"
      ]
     },
     "execution_count": 25,
     "metadata": {},
     "output_type": "execute_result"
    }
   ],
   "source": [
    "l1.pop()"
   ]
  },
  {
   "cell_type": "markdown",
   "id": "591ba155",
   "metadata": {},
   "source": [
    "**Q 12. Describe how list values and string values are identical.**"
   ]
  },
  {
   "cell_type": "markdown",
   "id": "c706981a",
   "metadata": {},
   "source": [
    "**Answer:** In both the cases we can access the element with their index value. We can perform all operation on string as similar to list."
   ]
  },
  {
   "cell_type": "markdown",
   "id": "6c3494a0",
   "metadata": {},
   "source": [
    "**Q 13. What's the difference between tuples and lists?**"
   ]
  },
  {
   "cell_type": "markdown",
   "id": "ca7ca3fd",
   "metadata": {},
   "source": [
    "**Answer**: The primary difference between the list and tuple is former is mutable and later one is immutable. It means element in the list can be add, delete and replace while in tuple it's not possible."
   ]
  },
  {
   "cell_type": "markdown",
   "id": "8c42cd18",
   "metadata": {},
   "source": [
    "**Q 14. How do you type a tuple value that only contains the integer 42?**"
   ]
  },
  {
   "cell_type": "markdown",
   "id": "3fc9113b",
   "metadata": {},
   "source": [
    "**Answer**: We can type a tuple value that contain only one integer as :<br>\n",
    "tp1 = (49,)"
   ]
  },
  {
   "cell_type": "code",
   "execution_count": 27,
   "id": "c43089f4",
   "metadata": {},
   "outputs": [
    {
     "data": {
      "text/plain": [
       "tuple"
      ]
     },
     "execution_count": 27,
     "metadata": {},
     "output_type": "execute_result"
    }
   ],
   "source": [
    "tp1 = (42,)\n",
    "type(tp1)"
   ]
  },
  {
   "cell_type": "markdown",
   "id": "4c6ef5a0",
   "metadata": {},
   "source": [
    "**Q 15. How do you get a list value's tuple form? How do you get a tuple value's list form?**"
   ]
  },
  {
   "cell_type": "markdown",
   "id": "0ed30185",
   "metadata": {},
   "source": [
    "**Answer** : To convert list valu's into tuple form we use tuple() and pass the list inside the parenthesis and to convert tuple values into list we use the list() function and pass the tuple into the function."
   ]
  },
  {
   "cell_type": "code",
   "execution_count": 5,
   "id": "fb16f1cc",
   "metadata": {},
   "outputs": [],
   "source": [
    "tp2 = (45,32,56,78,90,23,21)\n",
    "list2 = [34,5,6,7,3,45,67,8,4]\n",
    "tp2_to_list3 = list(tp2)\n",
    "list2_to_tp3 = tuple(list2)"
   ]
  },
  {
   "cell_type": "code",
   "execution_count": 6,
   "id": "5bc09c0a",
   "metadata": {},
   "outputs": [
    {
     "name": "stdout",
     "output_type": "stream",
     "text": [
      "<class 'list'>\n",
      "<class 'tuple'>\n"
     ]
    }
   ],
   "source": [
    "print(type(tp2_to_list3))\n",
    "print(type(list2_to_tp3))"
   ]
  },
  {
   "cell_type": "markdown",
   "id": "94a160a9",
   "metadata": {},
   "source": [
    "**Q 16. Variables that \"contain\" list values are not necessarily lists themselves. Instead, what do they contain?**"
   ]
  },
  {
   "cell_type": "markdown",
   "id": "28d3548e",
   "metadata": {},
   "source": [
    "**Answer**: Variables that contain list generally contain the references to the list rather than the list element themselves."
   ]
  },
  {
   "cell_type": "markdown",
   "id": "47c37880",
   "metadata": {},
   "source": [
    "**Q 17. How do you distinguish between copy.copy() and copy.deepcopy()?**"
   ]
  },
  {
   "cell_type": "markdown",
   "id": "ec57d615",
   "metadata": {},
   "source": [
    "**Answer**: copy.copy() function is useful to create a copy of data (list) but copy.copy() fails when the the list is 2-dimensional while the copy.deepcopy() works on 2-dimensional list. We can see in the example :"
   ]
  },
  {
   "cell_type": "code",
   "execution_count": 11,
   "id": "a4ad09ca",
   "metadata": {},
   "outputs": [
    {
     "name": "stdout",
     "output_type": "stream",
     "text": [
      "[2, 3, 4, 5, 10, 7]\n",
      "[2, 3, 4, 5, 6, 7]\n"
     ]
    }
   ],
   "source": [
    "import copy\n",
    "list1 = [2,3,4,5,6,7]\n",
    "\n",
    "list2 = copy.copy(list1)\n",
    "\n",
    "list1[4] = 10\n",
    "\n",
    "print(list1)\n",
    "\n",
    "print(list2)"
   ]
  },
  {
   "cell_type": "code",
   "execution_count": 12,
   "id": "684cbf85",
   "metadata": {},
   "outputs": [
    {
     "name": "stdout",
     "output_type": "stream",
     "text": [
      "[2, 3, 4, [10, 5, 6], 9, 0]\n",
      "[2, 3, 4, [10, 5, 6], 9, 0]\n"
     ]
    }
   ],
   "source": [
    "list3 = [2,3,4 ,[4,5,6],9,0]\n",
    "\n",
    "list4 = copy.copy(list3)\n",
    "\n",
    "list3[3][0] = 10\n",
    "\n",
    "print(list3)\n",
    "\n",
    "print(list4)"
   ]
  },
  {
   "cell_type": "markdown",
   "id": "00a295df",
   "metadata": {},
   "source": [
    "We can see that copy.copy() can't hold the value in 2-dimensional list. The value changed in other list also when we changed in first list. Now we will see with the deep.copy() "
   ]
  },
  {
   "cell_type": "code",
   "execution_count": 13,
   "id": "7ebd9b3c",
   "metadata": {},
   "outputs": [
    {
     "name": "stdout",
     "output_type": "stream",
     "text": [
      "[2, 3, 4, [10, 5, 6], 9, 0]\n",
      "[2, 3, 4, [4, 5, 6], 9, 0]\n"
     ]
    }
   ],
   "source": [
    "list5 = [2,3,4 ,[4,5,6],9,0]\n",
    "\n",
    "list6 = copy.deepcopy(list5)\n",
    "\n",
    "list5[3][0] = 10\n",
    "\n",
    "print(list5)\n",
    "\n",
    "print(list6)"
   ]
  },
  {
   "cell_type": "markdown",
   "id": "6b29bfc9",
   "metadata": {},
   "source": [
    "Now even the 2-dimensional list values didn't changed when we use the deep.copy()"
   ]
  }
 ],
 "metadata": {
  "kernelspec": {
   "display_name": "Python 3 (ipykernel)",
   "language": "python",
   "name": "python3"
  },
  "language_info": {
   "codemirror_mode": {
    "name": "ipython",
    "version": 3
   },
   "file_extension": ".py",
   "mimetype": "text/x-python",
   "name": "python",
   "nbconvert_exporter": "python",
   "pygments_lexer": "ipython3",
   "version": "3.9.12"
  }
 },
 "nbformat": 4,
 "nbformat_minor": 5
}
