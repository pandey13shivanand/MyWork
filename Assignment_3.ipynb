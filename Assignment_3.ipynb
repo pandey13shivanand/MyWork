{
 "cells": [
  {
   "cell_type": "markdown",
   "id": "da05683f",
   "metadata": {},
   "source": [
    "### Assignment 3"
   ]
  },
  {
   "cell_type": "markdown",
   "id": "93070457",
   "metadata": {},
   "source": [
    "**Question 1: Why are functions advantageous to have in your programs?**"
   ]
  },
  {
   "cell_type": "markdown",
   "id": "ecf6428e",
   "metadata": {},
   "source": [
    "**Answer:** Rather than writing a code again and again, function provide us advantage of write once and use multiple times.This reduce the time consumption of writing code again and again. So this the adavantage of functions in our program."
   ]
  },
  {
   "cell_type": "markdown",
   "id": "b285b581",
   "metadata": {},
   "source": [
    "**Question 2 : When does the code in a function run: when it's specified or when it's called?**"
   ]
  },
  {
   "cell_type": "markdown",
   "id": "aa378dc5",
   "metadata": {},
   "source": [
    "**Answer:** Function is executed when you call the function."
   ]
  },
  {
   "cell_type": "markdown",
   "id": "a5f44ddd",
   "metadata": {},
   "source": [
    "**Question 3: What statement creates a function?**"
   ]
  },
  {
   "cell_type": "markdown",
   "id": "13f5d82e",
   "metadata": {},
   "source": [
    "**Answer** : In python function is created with the **def** keyword. We can see the example below - <br>\n",
    "def first_fun():<br>\n",
    "&emsp; &emsp;      print(\"I am the first function\")"
   ]
  },
  {
   "cell_type": "markdown",
   "id": "be22f03f",
   "metadata": {},
   "source": [
    "**Question 4: What is the difference between a function and a function call?**"
   ]
  },
  {
   "cell_type": "markdown",
   "id": "8ba6b623",
   "metadata": {},
   "source": [
    "**Answer** : A **function** is block of code that creates to perform the particular operation. Function accept the parameter and return the result. The parameter is not mandatory for a function. While the **Function call** is used to pass control to a function"
   ]
  },
  {
   "cell_type": "markdown",
   "id": "56c38c1b",
   "metadata": {},
   "source": [
    "**Qustion 5: How many global scopes are there in a Python program? How many local scopes?**"
   ]
  },
  {
   "cell_type": "markdown",
   "id": "ca20498b",
   "metadata": {},
   "source": [
    "**Answer**: There is only one global Python scope per program execution and on the other hand the local scopes are depend upon the number of function created in whole python program. For one function there is only one local python scope per function.\n",
    "\n",
    "\n",
    "PS: I am not very clear about this question but I try to write the answer. For local scope in one function you can create as many as local but there is only one way of scope in function. So please let me know if I did something wrong with the answer."
   ]
  },
  {
   "cell_type": "markdown",
   "id": "7dcbe52e",
   "metadata": {},
   "source": [
    "**Question 6: What happens to variables in a local scope when the function call returns?**"
   ]
  },
  {
   "cell_type": "markdown",
   "id": "21d5c617",
   "metadata": {},
   "source": [
    "**Answer** : When the execution of the function terminates or return, the variable in local scope is destroyed."
   ]
  },
  {
   "cell_type": "markdown",
   "id": "7c067d13",
   "metadata": {},
   "source": [
    "**Question 7: What is the concept of a return value? Is it possible to have a return value in an expression?**"
   ]
  },
  {
   "cell_type": "markdown",
   "id": "2d9ec1a1",
   "metadata": {},
   "source": [
    "**Answer**: When the task is completed, the value return to the calling script or function is known as **return value**. Yes it is possible to return a value in an expression."
   ]
  },
  {
   "cell_type": "markdown",
   "id": "8844dcd2",
   "metadata": {},
   "source": [
    "**Question 8: If a function does not have a return statement, what is the return value of a call to that function?**"
   ]
  },
  {
   "cell_type": "markdown",
   "id": "01dc43c5",
   "metadata": {},
   "source": [
    "**Answer:** If the no return statement is defined then the control automatically handed over to the calling function after the last statement is executed and in this case the return value of the function is undefined."
   ]
  },
  {
   "cell_type": "markdown",
   "id": "5c9f6632",
   "metadata": {},
   "source": [
    "**Question 9: How do you make a function variable refer to the global variable?**"
   ]
  },
  {
   "cell_type": "markdown",
   "id": "bdd32a4f",
   "metadata": {},
   "source": [
    "**Answer**: If a variable is created inside a function then its scope is not global. To create as global we need to use global keyword with the variable.<br> Example :"
   ]
  },
  {
   "cell_type": "code",
   "execution_count": 8,
   "id": "e8fc6fbc",
   "metadata": {},
   "outputs": [],
   "source": [
    "def multiplication_prog():\n",
    "    global a\n",
    "    a = 5\n",
    "    b = 6\n",
    "    c = a*b\n",
    "    return c\n",
    "def addition_prog():\n",
    "    x = 9\n",
    "    y = a + x\n",
    "    return y"
   ]
  },
  {
   "cell_type": "code",
   "execution_count": 9,
   "id": "0aac54d0",
   "metadata": {},
   "outputs": [
    {
     "data": {
      "text/plain": [
       "30"
      ]
     },
     "execution_count": 9,
     "metadata": {},
     "output_type": "execute_result"
    }
   ],
   "source": [
    "multiplication_prog()"
   ]
  },
  {
   "cell_type": "code",
   "execution_count": 10,
   "id": "13bbd24d",
   "metadata": {},
   "outputs": [
    {
     "data": {
      "text/plain": [
       "14"
      ]
     },
     "execution_count": 10,
     "metadata": {},
     "output_type": "execute_result"
    }
   ],
   "source": [
    "addition_prog()"
   ]
  },
  {
   "cell_type": "markdown",
   "id": "fd2b14e7",
   "metadata": {},
   "source": [
    "**Question 10: What is the data type of None?**"
   ]
  },
  {
   "cell_type": "markdown",
   "id": "f05eb588",
   "metadata": {},
   "source": [
    "**Answer**: The None keyword is used to define a null value or no value at all. It is not same 0, False or empty string. None is data types of its own and only None can be None."
   ]
  },
  {
   "cell_type": "markdown",
   "id": "e19b8863",
   "metadata": {},
   "source": [
    "**Question 11 : What does the sentence import areallyourpetsnamederic do?**"
   ]
  },
  {
   "cell_type": "markdown",
   "id": "c83cf409",
   "metadata": {},
   "source": [
    "**Answer**: This will import the module name areallyourpetsnamederic and we can use all the function of its for our operation .(Btw it is not any python module so it will throw error)"
   ]
  },
  {
   "cell_type": "markdown",
   "id": "9d9f6d05",
   "metadata": {},
   "source": [
    "**Question 12: If you had a bacon() feature in a spam module, what would you call it after importing spam?**"
   ]
  },
  {
   "cell_type": "markdown",
   "id": "84b243c3",
   "metadata": {},
   "source": [
    "We need to first import spam module then to use beacon() we need to call like this :<br>\n",
    "import spam<br>\n",
    "spam.beacon()\n"
   ]
  },
  {
   "cell_type": "markdown",
   "id": "4f25000c",
   "metadata": {},
   "source": [
    "**Question 13: What can you do to save a programme from crashing if it encounters an error?**"
   ]
  },
  {
   "cell_type": "markdown",
   "id": "2c8136b7",
   "metadata": {},
   "source": [
    "**Answer :** To save our program from crashing we need to use error handling method. For error handling method we use try and except block."
   ]
  },
  {
   "cell_type": "markdown",
   "id": "46a29278",
   "metadata": {},
   "source": [
    "**Question 14: What is the purpose of the try clause? What is the purpose of the except clause?**"
   ]
  },
  {
   "cell_type": "markdown",
   "id": "ae54ef1c",
   "metadata": {},
   "source": [
    "**Answer**: The try block let us to test the block of code for error. The except block lets you handle the error."
   ]
  },
  {
   "cell_type": "code",
   "execution_count": null,
   "id": "c0451534",
   "metadata": {},
   "outputs": [],
   "source": []
  }
 ],
 "metadata": {
  "kernelspec": {
   "display_name": "Python 3 (ipykernel)",
   "language": "python",
   "name": "python3"
  },
  "language_info": {
   "codemirror_mode": {
    "name": "ipython",
    "version": 3
   },
   "file_extension": ".py",
   "mimetype": "text/x-python",
   "name": "python",
   "nbconvert_exporter": "python",
   "pygments_lexer": "ipython3",
   "version": "3.9.12"
  }
 },
 "nbformat": 4,
 "nbformat_minor": 5
}
